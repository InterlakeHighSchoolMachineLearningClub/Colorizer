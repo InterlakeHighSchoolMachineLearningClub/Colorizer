{
 "metadata": {
  "name": "",
  "signature": "sha256:0cb7d7603f04ab83d4cc893ae7f2e39722df6618d29ad67e4b2e41a64c7d8994"
 },
 "nbformat": 3,
 "nbformat_minor": 0,
 "worksheets": [
  {
   "cells": [
    {
     "cell_type": "markdown",
     "metadata": {},
     "source": [
      "Complete Analysis of *Their Eyes Were Watching God*\n",
      "==========================\n",
      "\n",
      "For my creative project I will write some code that will analyze *Their Eyes Were Watching God* sentence by sentence. The very first thing I will do is analyze the sentiment of every single sentence in the book. The sentiment of a sentence is a number between $0$ and $1$ which describes whether or not a sentence is positive or negative. A sentiment values of $0,0.5$ and $1$ simply map to sentiments negative,neutral and positive. Using this we can visualize the projection of sentiment throughout the book and map events to these sentiments.\n"
     ]
    },
    {
     "cell_type": "markdown",
     "metadata": {},
     "source": [
      "The first thing we do is load up the text file containing the book and split it up by sentences."
     ]
    },
    {
     "cell_type": "code",
     "collapsed": false,
     "input": [
      "import nltk.data\n",
      "with open('D:\\\\Temp\\\\Their-Eyes-Were-Watching-God-rmrju9.txt', 'r') as content_file:\n",
      "    content = content_file.read()\n",
      "\n",
      "sent_detector = nltk.data.load('tokenizers/punkt/english.pickle')\n",
      "tokens = sent_detector.tokenize(content)"
     ],
     "language": "python",
     "metadata": {},
     "outputs": [],
     "prompt_number": 15
    },
    {
     "cell_type": "markdown",
     "metadata": {},
     "source": [
      "The next part is a little tricky to explain. Essentially what we do is create a function that given a sentence can give us a sentiment value."
     ]
    },
    {
     "cell_type": "code",
     "collapsed": false,
     "input": [
      "import numpy as np\n",
      "\n",
      "from scipy.optimize import minimize\n",
      "\n",
      "import sklearn.linear_model as ln\n",
      "import nltk.classify.util\n",
      "\n",
      "from nltk.classify import *\n",
      "from nltk.corpus import movie_reviews\n",
      "import nltk.corpus as corpus\n",
      "import nltk.tokenize as tokenize\n",
      "import nltk.data as data\n",
      "from sets import Set\n",
      "\n",
      "class GeneralTokenizerTools():\n",
      "    def __init__(self):\n",
      "        self.stopwords = Set(corpus.stopwords.words('english'))\n",
      "        self.sent_tokenizer = data.load('tokenizers/punkt/english.pickle')\n",
      "    def tokenize_remove_stopwords_sentence(self,sentence):\n",
      "        return [x for x in tokenize.WhitespaceTokenizer().tokenize(sentence) if x not in self.stopwords]\n",
      "    def tokenize_remove_stopwords_sentences(self,sentences):\n",
      "        return [self.tokenize_remove_stopwords_sentence(x) for x in sentences]\n",
      "    def tokenize_by_sentence(self,text):\n",
      "        return self.tokenize_remove_stopwords_sentences(self.sent_tokenizer.tokenize(text))\n",
      "    \n",
      "def word_feats(words):\n",
      "    return dict([(word, True) for word in words])\n",
      " \n",
      "negids = movie_reviews.fileids('neg')\n",
      "posids = movie_reviews.fileids('pos')\n",
      " \n",
      "negfeats = [(word_feats(movie_reviews.words(fileids=[f])), 0) for f in negids]\n",
      "posfeats = [(word_feats(movie_reviews.words(fileids=[f])), 1) for f in posids]\n",
      "\n",
      "cut = .99\n",
      "negcutoff = int(len(negfeats) * cut)\n",
      "poscutoff = int(len(posfeats) * cut)\n",
      " \n",
      "trainfeats = negfeats[:negcutoff] + posfeats[:poscutoff]\n",
      "testfeats = negfeats[negcutoff:] + posfeats[poscutoff:]\n",
      "print 'train on %d instances, test on %d instances' % (len(trainfeats), len(testfeats))\n",
      " \n",
      "classifier = SklearnClassifier(ln.LogisticRegression(),sparse=False).train(trainfeats)\n",
      "print 'accuracy:', nltk.classify.util.accuracy(classifier, testfeats)\n",
      "\n",
      "tool = GeneralTokenizerTools()\n",
      "\n",
      "def predict(x):\n",
      "    return classifier.prob_classify(dict([(y,True) for y in tool.tokenize_remove_stopwords_sentence(x)]))\n"
     ],
     "language": "python",
     "metadata": {},
     "outputs": [
      {
       "output_type": "stream",
       "stream": "stdout",
       "text": [
        "train on 1980 instances, test on 20 instances\n",
        "accuracy:"
       ]
      },
      {
       "output_type": "stream",
       "stream": "stdout",
       "text": [
        " 0.95\n"
       ]
      }
     ],
     "prompt_number": 32
    },
    {
     "cell_type": "markdown",
     "metadata": {},
     "source": [
      "Some more math magic that will make the presentation a bit nicer to look at. "
     ]
    },
    {
     "cell_type": "code",
     "collapsed": false,
     "input": [
      "import matplotlib.pylab as plt\n",
      "\n",
      "%pylab inline\n",
      "def exponential_smoothing(x):\n",
      "    def y(alpha, x):\n",
      "        y = np.empty(len(x), float)\n",
      "        y[0] = x[0]\n",
      "        for i in xrange(1, len(x)):\n",
      "            y[i] = x[i - 1] * alpha + y[i - 1] * (1 - alpha)\n",
      "        return y\n",
      "\n",
      "    def mape(alpha, x):\n",
      "        diff = y(alpha, x) - x\n",
      "        return np.mean(diff / x) ** 2\n",
      "\n",
      "    guess = .5\n",
      "    result = minimize(mape, guess, (x,), bounds=[(0,1)],method='L-BFGS-B')\n",
      "    print result\n",
      "    return y(result.x,x)\n",
      "\n",
      "def moving_average(x,y,step_size=.1,bin_size=1):\n",
      "    x = x or np.arange(0,len(y),1)\n",
      "    y = np.array(y)\n",
      "    bin_centers = np.arange(np.min(x),np.max(x) - 0.5 * step_size,step_size) + 0.5 * step_size\n",
      "    bin_avg = np.zeros(len(bin_centers))\n",
      "\n",
      "    for index in range(0,len(bin_centers)):\n",
      "        bin_center = bin_centers[index]\n",
      "        items_in_bin = y[(x > (bin_center - bin_size * 0.5)) & (x < (bin_center + bin_size * 0.5))]\n",
      "        bin_avg[index] = np.average(items_in_bin)\n",
      "\n",
      "    return bin_centers,bin_avg"
     ],
     "language": "python",
     "metadata": {},
     "outputs": [
      {
       "output_type": "stream",
       "stream": "stdout",
       "text": [
        "Populating the interactive namespace from numpy and matplotlib\n"
       ]
      },
      {
       "output_type": "stream",
       "stream": "stderr",
       "text": [
        "WARNING: pylab import has clobbered these variables: ['plt']\n",
        "`%matplotlib` prevents importing * from pylab and numpy\n"
       ]
      }
     ],
     "prompt_number": 76
    },
    {
     "cell_type": "markdown",
     "metadata": {},
     "source": [
      "We classify the sentiment of each sentence and we smooth everything out. So for example if we have 5 sentiments of sentences near eachother, and 4 of them are positive we will just say that 5th one is positive too (even if it is negative). This allows the presentation to be a bit nicer."
     ]
    },
    {
     "cell_type": "code",
     "collapsed": false,
     "input": [
      "page_count = 218\n",
      "a_pos,b_pos = moving_average(None,[predict(x).prob(1) for x in tokens],bin_size=100)"
     ],
     "language": "python",
     "metadata": {},
     "outputs": [],
     "prompt_number": 67
    },
    {
     "cell_type": "markdown",
     "metadata": {},
     "source": [
      "The final stage is to visualize it. "
     ]
    },
    {
     "cell_type": "code",
     "collapsed": false,
     "input": [
      "plt.title(\"Sentiment of each Sentence\")\n",
      "plt.xlabel(\"Page\")\n",
      "plt.ylabel(\"Probability of Sentence Being Positive\")\n",
      "plt.plot(np.arange(0,page_count,float(page_count)/len(b_pos)), (b_pos - min(b_pos))/(max(b_pos)-min(b_pos)))\n",
      "plt.show()"
     ],
     "language": "python",
     "metadata": {},
     "outputs": [
      {
       "metadata": {},
       "output_type": "display_data",
       "png": "[encoded data removed]",
       "text": [
        "<matplotlib.figure.Figure at 0x1ee6bc18>"
       ]
      }
     ],
     "prompt_number": 73
    },
    {
     "cell_type": "markdown",
     "metadata": {},
     "source": [
      "Analysis of Sentiment\n",
      "=================\n",
      "It is interesting to note that their are about three chunks (not including up to page 30 since that was the foreward) which correlate with the men she has met throughout the book. It seems counterintuitive that the most positive but sporadic chunk of the book occured when she was with logan while the most consistent was with Tea-Cake. "
     ]
    },
    {
     "cell_type": "markdown",
     "metadata": {},
     "source": [
      "The next thing we will do is follow the trend of independence and love and how this correlates with the theme of a free women throughout the book. To do this we will analyze every individual sentence in the book to see if they contain some key words."
     ]
    },
    {
     "cell_type": "code",
     "collapsed": false,
     "input": [
      "from scipy import stats\n",
      "\n",
      "words_of_interest = [\"independence\",\"independent\",\"free\",\"love\",\"like\",\"happy\",\"woman\"]\n",
      "def exists(x):\n",
      "    for i in words_of_interest:\n",
      "        if i in x:\n",
      "            return 1\n",
      "    return 0 \n",
      "a = (np.array([x for x in range(len(tokens)) if exists(tokens[x]) == 1 ]))\n",
      "kde = stats.gaussian_kde(a)\n",
      "\n",
      "plt.xlabel(\"Sentence\")\n",
      "plt.ylabel(\"Average Occurence\")\n",
      "plt.plot(range(5000),[-np.log(kde(x) * 1000) for x in range(5000)])\n",
      "plt.show()"
     ],
     "language": "python",
     "metadata": {},
     "outputs": [
      {
       "metadata": {},
       "output_type": "display_data",
       "png": "[encoded data removed]",
       "text": [
        "<matplotlib.figure.Figure at 0x7bfa0748>"
       ]
      }
     ],
     "prompt_number": 165
    },
    {
     "cell_type": "markdown",
     "metadata": {},
     "source": [
      "Analysis of Trends\n",
      "================\n",
      "In this part of my project I analyze the words that correlate with the major themes of the book. It is interesting to note that the low point of the protaganist is in the middle of the book while she reaches her peak was in the end of the book with tea cake. It is intereting to note that her level of independence and love drop after the death of Tea Cake."
     ]
    },
    {
     "cell_type": "code",
     "collapsed": false,
     "input": [],
     "language": "python",
     "metadata": {},
     "outputs": []
    }
   ],
   "metadata": {}
  }
 ]
}